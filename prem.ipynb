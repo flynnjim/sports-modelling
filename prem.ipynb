{
 "cells": [
  {
   "cell_type": "code",
   "execution_count": 1,
   "metadata": {},
   "outputs": [],
   "source": [
    "import pandas as pd"
   ]
  },
  {
   "cell_type": "code",
   "execution_count": 2,
   "metadata": {},
   "outputs": [
    {
     "name": "stdout",
     "output_type": "stream",
     "text": [
      "  Div        Date   Time    HomeTeam     AwayTeam  FTHG  FTAG FTR  HTHG  HTAG  \\\n",
      "0  E0  16/08/2024  20:00  Man United       Fulham     1     0   H     0     0   \n",
      "1  E0  17/08/2024  12:30     Ipswich    Liverpool     0     2   A     0     0   \n",
      "2  E0  17/08/2024  15:00     Arsenal       Wolves     2     0   H     1     0   \n",
      "3  E0  17/08/2024  15:00     Everton     Brighton     0     3   A     0     1   \n",
      "4  E0  17/08/2024  15:00   Newcastle  Southampton     1     0   H     1     0   \n",
      "\n",
      "   ... B365CAHH B365CAHA  PCAHH  PCAHA  MaxCAHH  MaxCAHA  AvgCAHH  AvgCAHA  \\\n",
      "0  ...     1.86     2.07   1.83   2.11     1.88     2.11     1.82     2.05   \n",
      "1  ...     2.05     1.88   2.04   1.90     2.20     2.00     1.99     1.88   \n",
      "2  ...     2.02     1.91   2.00   1.90     2.05     1.93     1.99     1.87   \n",
      "3  ...     1.87     2.06   1.86   2.07     1.92     2.10     1.83     2.04   \n",
      "4  ...     1.87     2.06   1.88   2.06     1.89     2.10     1.82     2.05   \n",
      "\n",
      "   BFECAHH  BFECAHA  \n",
      "0     1.90     2.08  \n",
      "1     2.04     1.93  \n",
      "2     2.02     1.96  \n",
      "3     1.88     2.11  \n",
      "4     1.89     2.10  \n",
      "\n",
      "[5 rows x 120 columns]\n"
     ]
    }
   ],
   "source": [
    "file_path = \"E0.csv\"\n",
    "\n",
    "data = pd.read_csv(file_path)\n",
    "\n",
    "print(data.head())"
   ]
  },
  {
   "cell_type": "code",
   "execution_count": 5,
   "metadata": {},
   "outputs": [
    {
     "name": "stdout",
     "output_type": "stream",
     "text": [
      "Match Outcome Distribution:\n",
      "FTR\n",
      "H    50\n",
      "A    37\n",
      "D    33\n",
      "Name: count, dtype: int64\n",
      "Outcome Percentages (%):\n",
      "FTR\n",
      "H    41.666667\n",
      "A    30.833333\n",
      "D    27.500000\n",
      "Name: count, dtype: float64\n"
     ]
    }
   ],
   "source": [
    "outcome_counts = data['FTR'].value_counts()\n",
    "total_matches = len(data)\n",
    "outcome_percentages = (outcome_counts / total_matches) * 100\n",
    "\n",
    "print(\"Match Outcome Distribution:\")\n",
    "print(outcome_counts)\n",
    "print(\"Outcome Percentages (%):\")\n",
    "print(outcome_percentages)"
   ]
  },
  {
   "cell_type": "code",
   "execution_count": 17,
   "metadata": {},
   "outputs": [
    {
     "name": "stdout",
     "output_type": "stream",
     "text": [
      "\n",
      "Average Odds for Each Outcome:\n",
      "Home Win: 2.08\n",
      "Away Win: 5.82\n",
      "Draw: 4.82\n",
      "\n",
      "Betting odds in percentages\n",
      "Home odds 48.13\n",
      "Away odds 17.17\n",
      "Draw odds 20.74\n",
      "Implied Vig\n",
      "Vig 13.96%\n"
     ]
    }
   ],
   "source": [
    "home_wins = data[data['FTR'] == 'H']\n",
    "away_wins = data[data['FTR'] == 'A']\n",
    "draws = data[data['FTR'] == 'D']\n",
    "\n",
    "avg_home_odds = home_wins['B365H'].mean()\n",
    "avg_away_odds = home_wins['B365A'].mean()\n",
    "avg_draw_odds = home_wins['B365D'].mean()\n",
    "\n",
    "print(\"\\nAverage Odds for Each Outcome:\")\n",
    "print(f\"Home Win: {avg_home_odds:.2f}\")\n",
    "print(f\"Away Win: {avg_away_odds:.2f}\")\n",
    "print(f\"Draw: {avg_draw_odds:.2f}\")\n",
    "\n",
    "print(\"\\nBetting odds in percentages\")\n",
    "print(f\"Home odds {100/avg_home_odds:.2f}\")\n",
    "print(f\"Away odds {100/avg_away_odds:.2f}\")\n",
    "print(f\"Draw odds {100/avg_draw_odds:.2f}\")\n",
    "print(\"Implied Vig\")\n",
    "print(f\"Vig {100-(100/avg_home_odds + 100/avg_away_odds + 100/avg_draw_odds):.2f}%\")"
   ]
  },
  {
   "cell_type": "code",
   "execution_count": 47,
   "metadata": {},
   "outputs": [
    {
     "name": "stdout",
     "output_type": "stream",
     "text": [
      "\n",
      "            HomeTeam     AwayTeam FTR  B365H        Date\n",
      "91      Bournemouth     Man City   H   5.50  02/11/2024\n",
      "76      Bournemouth      Arsenal   H   5.00  19/10/2024\n",
      "104        Brighton     Man City   H   4.10  09/11/2024\n",
      "87   Crystal Palace    Tottenham   H   3.90  27/10/2024\n",
      "90        Newcastle      Arsenal   H   3.75  02/11/2024\n",
      "63        Leicester  Bournemouth   H   3.10  05/10/2024\n",
      "\n",
      "            HomeTeam       AwayTeam FTR  B365A        Date\n",
      "34        Liverpool  Nott'm Forest   A  12.00  14/09/2024\n",
      "108       Tottenham        Ipswich   A   9.00  10/11/2024\n",
      "116        Man City      Tottenham   A   6.00  23/11/2024\n",
      "119       Newcastle       West Ham   A   6.00  25/11/2024\n",
      "115          Fulham         Wolves   A   5.25  23/11/2024\n",
      "74        Newcastle       Brighton   A   3.60  19/10/2024\n",
      "11   Crystal Palace       West Ham   A   3.20  24/08/2024\n",
      "\n",
      "Number of upsets (Odds > 3.0): 13\n",
      "Upset Percentage: 10.83%\n"
     ]
    }
   ],
   "source": [
    "home_upsets = home_wins[home_wins['B365H'] > 3.0]\n",
    "\n",
    "home_upsets_sorted = home_upsets.sort_values(by='B365H', ascending=False)\n",
    "\n",
    "away_upsets = away_wins[away_wins['B365A'] > 3.0]\n",
    "\n",
    "away_upsets_sorted = away_upsets.sort_values(by='B365A', ascending=False)\n",
    "\n",
    "\n",
    "print(\"\\n\", home_upsets_sorted[['HomeTeam', 'AwayTeam', 'FTR', 'B365H', 'Date']])\n",
    "print(\"\\n\", away_upsets_sorted[['HomeTeam', 'AwayTeam', 'FTR', 'B365A', 'Date']])\n",
    "\n",
    "upset_count = len(home_upsets) + len(away_upsets)\n",
    "upset_percentage = (upset_count / total_matches) * 100\n",
    "\n",
    "print(f\"\\nNumber of upsets (Odds > 3.0): {upset_count}\")\n",
    "print(f\"Upset Percentage: {upset_percentage:.2f}%\")\n",
    "\n",
    "\n"
   ]
  },
  {
   "cell_type": "code",
   "execution_count": null,
   "metadata": {},
   "outputs": [],
   "source": []
  }
 ],
 "metadata": {
  "kernelspec": {
   "display_name": "Python 3",
   "language": "python",
   "name": "python3"
  },
  "language_info": {
   "codemirror_mode": {
    "name": "ipython",
    "version": 3
   },
   "file_extension": ".py",
   "mimetype": "text/x-python",
   "name": "python",
   "nbconvert_exporter": "python",
   "pygments_lexer": "ipython3",
   "version": "3.9.6"
  }
 },
 "nbformat": 4,
 "nbformat_minor": 2
}
