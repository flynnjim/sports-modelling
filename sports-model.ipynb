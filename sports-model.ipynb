{
 "cells": [
  {
   "cell_type": "code",
   "execution_count": 23,
   "metadata": {},
   "outputs": [],
   "source": [
    "import pandas as pd\n"
   ]
  },
  {
   "cell_type": "code",
   "execution_count": 24,
   "metadata": {},
   "outputs": [
    {
     "name": "stdout",
     "output_type": "stream",
     "text": [
      "  Div        Date   Time      HomeTeam     AwayTeam  FTHG  FTAG FTR  HTHG  \\\n",
      "0  E2  09/08/2024  20:00      Barnsley    Mansfield     1     2   A     1   \n",
      "1  E2  10/08/2024  17:30    Birmingham      Reading     1     1   D     0   \n",
      "2  E2  10/08/2024  17:30   Bristol Rvs  Northampton     1     0   H     0   \n",
      "3  E2  10/08/2024  17:30        Burton      Lincoln     2     3   A     2   \n",
      "4  E2  10/08/2024  17:30  Crawley Town    Blackpool     2     1   H     2   \n",
      "\n",
      "   HTAG  ... B365CAHH B365CAHA  PCAHH  PCAHA  MaxCAHH  MaxCAHA  AvgCAHH  \\\n",
      "0     2  ...     2.03     1.83   2.02   1.87     2.05     2.00     1.95   \n",
      "1     1  ...     1.80     2.05   1.81   2.10     1.83     2.10     1.80   \n",
      "2     0  ...     1.98     1.88   1.98   1.91     1.98     1.92     1.93   \n",
      "3     2  ...     1.80     2.05   1.82   2.08     1.88     2.09     1.80   \n",
      "4     0  ...     1.83     2.03   1.85   2.04     1.86     2.05     1.82   \n",
      "\n",
      "   AvgCAHA  BFECAHH  BFECAHA  \n",
      "0     1.85     2.06     1.93  \n",
      "1     2.01     1.82     2.16  \n",
      "2     1.86     2.02     1.97  \n",
      "3     2.01     1.88     2.11  \n",
      "4     1.99     1.89     2.08  \n",
      "\n",
      "[5 rows x 120 columns]\n"
     ]
    }
   ],
   "source": [
    "\n",
    "file_path = \"E2.csv\"\n",
    "\n",
    "data = pd.read_csv(file_path)\n",
    "\n",
    "\n",
    "print(data.head())\n"
   ]
  },
  {
   "cell_type": "code",
   "execution_count": null,
   "metadata": {},
   "outputs": [
    {
     "name": "stdout",
     "output_type": "stream",
     "text": [
      "Match Outcome Distribution:\n",
      "FTR\n",
      "H    86\n",
      "A    56\n",
      "D    44\n",
      "Name: count, dtype: int64\n",
      "Outcome Percentages (%):\n",
      "FTR\n",
      "H    46.236559\n",
      "A    30.107527\n",
      "D    23.655914\n",
      "Name: count, dtype: float64\n"
     ]
    }
   ],
   "source": [
    "outcome_counts = data['FTR'].value_counts()\n",
    "total_matches = len(data)\n",
    "outcome_percentages = (outcome_counts / total_matches) * 100\n",
    "\n",
    "print(\"Match Outcome Distribution:\")\n",
    "print(outcome_counts)\n",
    "print(\"Outcome Percentages (%):\")\n",
    "print(outcome_percentages)"
   ]
  },
  {
   "cell_type": "code",
   "execution_count": 37,
   "metadata": {},
   "outputs": [
    {
     "name": "stdout",
     "output_type": "stream",
     "text": [
      "\n",
      "Average Odds for Each Outcome:\n",
      "Home Win: 2.19\n",
      "Away Win: 2.94\n",
      "Draw: 3.61\n"
     ]
    }
   ],
   "source": [
    "home_wins = data[data['FTR'] == 'H']\n",
    "away_wins = data[data['FTR'] == 'A']\n",
    "draws = data[data['FTR'] == 'D']\n",
    "\n",
    "\n",
    "avg_home_odds = home_wins['B365H'].mean()\n",
    "avg_away_odds = away_wins['B365A'].mean()\n",
    "avg_draw_odds = draws['B365D'].mean() \n",
    "\n",
    "print(\"\\nAverage Odds for Each Outcome:\")\n",
    "print(f\"Home Win: {avg_home_odds:.2f}\")\n",
    "print(f\"Away Win: {avg_away_odds:.2f}\")\n",
    "print(f\"Draw: {avg_draw_odds:.2f}\")"
   ]
  },
  {
   "cell_type": "code",
   "execution_count": 32,
   "metadata": {},
   "outputs": [
    {
     "name": "stdout",
     "output_type": "stream",
     "text": [
      "\n",
      "Number of Upsets (Odds > 3.0): 29\n",
      "Upset Percentage: 15.59%\n"
     ]
    }
   ],
   "source": [
    "home_upsets = home_wins[home_wins['B365H'] > 3.0]\n",
    "away_upsets = away_wins[away_wins['B365A'] > 3.0]\n",
    "\n",
    "upset_count = len(home_upsets) + len(away_upsets)\n",
    "upset_percentage = (upset_count / total_matches) * 100\n",
    "\n",
    "print(f\"\\nNumber of Upsets (Odds > 3.0): {upset_count}\")\n",
    "print(f\"Upset Percentage: {upset_percentage:.2f}%\")"
   ]
  },
  {
   "cell_type": "code",
   "execution_count": null,
   "metadata": {},
   "outputs": [
    {
     "name": "stdout",
     "output_type": "stream",
     "text": [
      "         HomeTeam       AwayTeam  B365H FTR        Date  B365A\n",
      "4    Crawley Town      Blackpool    3.4   H  10/08/2024    NaN\n",
      "106      Charlton     Birmingham    4.0   H  05/10/2024    NaN\n",
      "121     Cambridge          Wigan    3.2   H  19/10/2024    NaN\n",
      "126   Northampton  Leyton Orient    3.1   H  19/10/2024    NaN\n",
      "132  Crawley Town        Lincoln    3.4   H  22/10/2024    NaN\n",
      "\n",
      "Top 5 Biggest Upsets (Odds > 3.0):\n",
      "Date: 21/09/2024, Home Team: Huddersfield, Away Team: Northampton, Away Odds: 8.00, Full-Time Result: A\n",
      "Date: 23/11/2024, Home Team: Shrewsbury, Away Team: Birmingham, Home Odds: 7.50, Full-Time Result: H\n",
      "Date: 31/08/2024, Home Team: Bolton, Away Team: Exeter, Away Odds: 6.50, Full-Time Result: A\n",
      "Date: 21/09/2024, Home Team: Stockport, Away Team: Leyton Orient, Away Odds: 6.00, Full-Time Result: A\n",
      "Date: 22/10/2024, Home Team: Stevenage, Away Team: Cambridge, Away Odds: 5.00, Full-Time Result: A\n"
     ]
    }
   ],
   "source": [
    "upsets = pd.concat([\n",
    "    home_upsets[['HomeTeam', 'AwayTeam', 'B365H', 'FTR', 'Date']], \n",
    "    away_upsets[['HomeTeam', 'AwayTeam', 'B365A', 'FTR', 'Date']]\n",
    "])\n",
    "\n",
    "\n",
    "\n",
    "# Add a column for odds, which will be the home odds if it's a home upset, or away odds if it's an away upset\n",
    "upsets['Odds'] = upsets['B365H'].fillna(upsets['B365A'])\n",
    "\n",
    "# Add a column to indicate if the odds are for home or away\n",
    "upsets['OddsType'] = upsets.apply(\n",
    "    lambda row: 'Home Odds' if pd.notna(row['B365H']) else 'Away Odds', axis=1\n",
    ")\n",
    "\n",
    "# Sort the upsets by the odds in descending order\n",
    "upsets_sorted = upsets.sort_values(by='Odds', ascending=False)\n",
    "\n",
    "# Select the top 5 upsets\n",
    "top_5_upsets = upsets_sorted.head(5)\n",
    "\n",
    "# Display the top 5 upsets\n",
    "print(\"\\nTop 5 Biggest Upsets (Odds > 3.0):\")\n",
    "for index, row in top_5_upsets.iterrows():\n",
    "    print(f\"Date: {row['Date']}, Home Team: {row['HomeTeam']}, Away Team: {row['AwayTeam']}, \"\n",
    "          f\"{row['OddsType']}: {row['Odds']:.2f}, Full-Time Result: {row['FTR']}\")"
   ]
  },
  {
   "cell_type": "code",
   "execution_count": 42,
   "metadata": {},
   "outputs": [
    {
     "name": "stdout",
     "output_type": "stream",
     "text": [
      "\n",
      "Top 5 Biggest Home Upsets (Home Team Wins with Odds > 3.0):\n",
      "Date: 23/11/2024, Home Team: Shrewsbury, Away Team: Birmingham, Home Odds: 7.50, Full-Time Result: H\n",
      "Date: 05/10/2024, Home Team: Charlton, Away Team: Birmingham, Home Odds: 4.00, Full-Time Result: H\n",
      "Date: 23/11/2024, Home Team: Crawley Town, Away Team: Rotherham, Home Odds: 3.60, Full-Time Result: H\n",
      "Date: 22/10/2024, Home Team: Crawley Town, Away Team: Lincoln, Home Odds: 3.40, Full-Time Result: H\n",
      "Date: 10/08/2024, Home Team: Crawley Town, Away Team: Blackpool, Home Odds: 3.40, Full-Time Result: H\n"
     ]
    }
   ],
   "source": [
    "# Identify home upsets (home wins with odds > 3.0)\n",
    "home_upsets = home_wins[home_wins['B365H'] > 3.0]\n",
    "\n",
    "# Sort the home upsets by the home odds in descending order\n",
    "home_upsets_sorted = home_upsets[['HomeTeam', 'AwayTeam', 'B365H', 'FTR', 'Date']].sort_values(by='B365H', ascending=False)\n",
    "\n",
    "# Select the top 5 home upsets\n",
    "top_5_home_upsets = home_upsets_sorted.head(5)\n",
    "\n",
    "# Display the top 5 home upsets with clear indication of home odds\n",
    "print(\"\\nTop 5 Biggest Home Upsets (Home Team Wins with Odds > 3.0):\")\n",
    "for index, row in top_5_home_upsets.iterrows():\n",
    "    print(f\"Date: {row['Date']}, Home Team: {row['HomeTeam']}, Away Team: {row['AwayTeam']}, \"\n",
    "          f\"Home Odds: {row['B365H']:.2f}, Full-Time Result: {row['FTR']}\")\n"
   ]
  },
  {
   "cell_type": "code",
   "execution_count": 44,
   "metadata": {},
   "outputs": [
    {
     "name": "stdout",
     "output_type": "stream",
     "text": [
      "\n",
      "Percentage of Matches Where the Favorite Won: 51.61%\n",
      "Percentage of Matches that Were a Draw: 23.66%\n",
      "Percentage of Matches Where the Favorite Lost: 24.73%\n"
     ]
    }
   ],
   "source": [
    "# Calculate favorite win percentage\n",
    "data['Favorite'] = data[['B365H', 'B365D', 'B365A']].idxmin(axis=1)\n",
    "data['FavoriteWon'] = ((data['Favorite'] == 'B365H') & (data['FTR'] == 'H')) | \\\n",
    "                      ((data['Favorite'] == 'B365A') & (data['FTR'] == 'A'))\n",
    "\n",
    "# Calculate the percentage of matches where the favorite won\n",
    "favorite_win_percentage = (data['FavoriteWon'].sum() / total_matches) * 100\n",
    "\n",
    "# Calculate the percentage of matches that ended in a draw\n",
    "draw_percentage = (data['FTR'] == 'D').sum() / total_matches * 100\n",
    "\n",
    "# Calculate the percentage of matches where the favorite lost (i.e., favorite not winning)\n",
    "favorite_loss_percentage = ((data['FavoriteWon'] == False) & (data['FTR'] != 'D')).sum() / total_matches * 100\n",
    "\n",
    "# Display the results\n",
    "print(f\"\\nPercentage of Matches Where the Favorite Won: {favorite_win_percentage:.2f}%\")\n",
    "print(f\"Percentage of Matches that Were a Draw: {draw_percentage:.2f}%\")\n",
    "print(f\"Percentage of Matches Where the Favorite Lost: {favorite_loss_percentage:.2f}%\")\n"
   ]
  }
 ],
 "metadata": {
  "kernelspec": {
   "display_name": "Python 3",
   "language": "python",
   "name": "python3"
  },
  "language_info": {
   "codemirror_mode": {
    "name": "ipython",
    "version": 3
   },
   "file_extension": ".py",
   "mimetype": "text/x-python",
   "name": "python",
   "nbconvert_exporter": "python",
   "pygments_lexer": "ipython3",
   "version": "3.9.6"
  }
 },
 "nbformat": 4,
 "nbformat_minor": 2
}
